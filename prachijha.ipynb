{
  "nbformat": 4,
  "nbformat_minor": 0,
  "metadata": {
    "colab": {
      "provenance": []
    },
    "kernelspec": {
      "name": "python3",
      "display_name": "Python 3"
    },
    "language_info": {
      "name": "python"
    }
  },
  "cells": [
    {
      "cell_type": "code",
      "execution_count": null,
      "metadata": {
        "id": "WpCl2l8xWl6W"
      },
      "outputs": [],
      "source": [
        "import numpy as np\n",
        "import pandas as pd\n",
        "from sklearn.preprocessing import MinMaxScaler, LabelEncoder\n",
        "from sklearn.naive_bayes import MultinomialNB\n",
        "from sklearn.multioutput import MultiOutputClassifier\n",
        "from sklearn.ensemble import RandomForestClassifier"
      ]
    },
    {
      "cell_type": "code",
      "source": [],
      "metadata": {
        "id": "B9XsM-wR4cK_"
      },
      "execution_count": null,
      "outputs": []
    },
    {
      "cell_type": "code",
      "source": [
        "train_data_x = pd.read_csv('training_set_features.csv')\n",
        "test_data_x = pd.read_csv('test_set_features.csv')\n",
        "train_data_y = pd.read_csv('training_set_labels.csv')"
      ],
      "metadata": {
        "id": "XmA30a1AXVdI"
      },
      "execution_count": null,
      "outputs": []
    },
    {
      "cell_type": "code",
      "source": [
        "for col in train_data_x.select_dtypes(include='object').columns:\n",
        "    max_occurrence_train = train_data_x[col].mode()[0]\n",
        "    train_data_x[col].fillna(max_occurrence_train, inplace=True)\n",
        "    max_occurrence_test = test_data_x[col].mode()[0]\n",
        "    test_data_x[col].fillna(max_occurrence_test, inplace=True)"
      ],
      "metadata": {
        "id": "vJUV7-MiXaut"
      },
      "execution_count": 32,
      "outputs": []
    },
    {
      "cell_type": "code",
      "source": [
        "for col in train_data_x.select_dtypes(include=['float','int']).columns:\n",
        "    unique_values_train = train_data_x[col].dropna().unique()\n",
        "    unique_values_test = test_data_x[col].dropna().unique()\n",
        "    if set(unique_values_train) == {1, 0}:\n",
        "        max_occurrence_train = train_data_x[col].mode()[0]\n",
        "        train_data_x[col].fillna(max_occurrence_train, inplace=True)\n",
        "        max_occurrence_test = test_data_x[col].mode()[0]\n",
        "        test_data_x[col].fillna(max_occurrence_test, inplace=True)\n",
        "    else:\n",
        "        max_occurrence_train = train_data_x[col].mean()\n",
        "        train_data_x[col].fillna(max_occurrence_train, inplace=True)\n",
        "        max_occurrence_test = test_data_x[col].mean()\n",
        "        test_data_x[col].fillna(max_occurrence_test, inplace=True)\n"
      ],
      "metadata": {
        "id": "dQTH5DyLXoqF"
      },
      "execution_count": 33,
      "outputs": []
    },
    {
      "cell_type": "code",
      "source": [
        "scaler = MinMaxScaler()\n",
        "numeric_columns = train_data_x.select_dtypes(include=['float']).columns\n",
        "train_data_x[numeric_columns] = scaler.fit_transform(train_data_x[numeric_columns])\n",
        "test_data_x[numeric_columns] = scaler.transform(test_data_x[numeric_columns])\n"
      ],
      "metadata": {
        "id": "1d_Zs5KlX2Vg"
      },
      "execution_count": 34,
      "outputs": []
    },
    {
      "cell_type": "code",
      "source": [
        "label_encoder = LabelEncoder()\n",
        "object_columns = train_data_x.select_dtypes(include='object').columns\n",
        "for col in object_columns:\n",
        "    train_data_x[col] = label_encoder.fit_transform(train_data_x[col])\n",
        "    test_data_x[col] = label_encoder.transform(test_data_x[col])\n",
        "\n"
      ],
      "metadata": {
        "id": "k25abY8EX78v"
      },
      "execution_count": 35,
      "outputs": []
    },
    {
      "cell_type": "code",
      "source": [
        "model = MultiOutputClassifier(RandomForestClassifier(random_state=42, n_estimators=100))\n",
        "model.fit(train_data_x, train_data_y.iloc[:,1:])"
      ],
      "metadata": {
        "colab": {
          "base_uri": "https://localhost:8080/",
          "height": 117
        },
        "id": "wM3y9xqEYHYD",
        "outputId": "fcd2f41f-372d-44b3-a058-3e951d5f09aa"
      },
      "execution_count": 55,
      "outputs": [
        {
          "output_type": "execute_result",
          "data": {
            "text/plain": [
              "MultiOutputClassifier(estimator=RandomForestClassifier(random_state=42))"
            ],
            "text/html": [
              "<style>#sk-container-id-6 {color: black;background-color: white;}#sk-container-id-6 pre{padding: 0;}#sk-container-id-6 div.sk-toggleable {background-color: white;}#sk-container-id-6 label.sk-toggleable__label {cursor: pointer;display: block;width: 100%;margin-bottom: 0;padding: 0.3em;box-sizing: border-box;text-align: center;}#sk-container-id-6 label.sk-toggleable__label-arrow:before {content: \"▸\";float: left;margin-right: 0.25em;color: #696969;}#sk-container-id-6 label.sk-toggleable__label-arrow:hover:before {color: black;}#sk-container-id-6 div.sk-estimator:hover label.sk-toggleable__label-arrow:before {color: black;}#sk-container-id-6 div.sk-toggleable__content {max-height: 0;max-width: 0;overflow: hidden;text-align: left;background-color: #f0f8ff;}#sk-container-id-6 div.sk-toggleable__content pre {margin: 0.2em;color: black;border-radius: 0.25em;background-color: #f0f8ff;}#sk-container-id-6 input.sk-toggleable__control:checked~div.sk-toggleable__content {max-height: 200px;max-width: 100%;overflow: auto;}#sk-container-id-6 input.sk-toggleable__control:checked~label.sk-toggleable__label-arrow:before {content: \"▾\";}#sk-container-id-6 div.sk-estimator input.sk-toggleable__control:checked~label.sk-toggleable__label {background-color: #d4ebff;}#sk-container-id-6 div.sk-label input.sk-toggleable__control:checked~label.sk-toggleable__label {background-color: #d4ebff;}#sk-container-id-6 input.sk-hidden--visually {border: 0;clip: rect(1px 1px 1px 1px);clip: rect(1px, 1px, 1px, 1px);height: 1px;margin: -1px;overflow: hidden;padding: 0;position: absolute;width: 1px;}#sk-container-id-6 div.sk-estimator {font-family: monospace;background-color: #f0f8ff;border: 1px dotted black;border-radius: 0.25em;box-sizing: border-box;margin-bottom: 0.5em;}#sk-container-id-6 div.sk-estimator:hover {background-color: #d4ebff;}#sk-container-id-6 div.sk-parallel-item::after {content: \"\";width: 100%;border-bottom: 1px solid gray;flex-grow: 1;}#sk-container-id-6 div.sk-label:hover label.sk-toggleable__label {background-color: #d4ebff;}#sk-container-id-6 div.sk-serial::before {content: \"\";position: absolute;border-left: 1px solid gray;box-sizing: border-box;top: 0;bottom: 0;left: 50%;z-index: 0;}#sk-container-id-6 div.sk-serial {display: flex;flex-direction: column;align-items: center;background-color: white;padding-right: 0.2em;padding-left: 0.2em;position: relative;}#sk-container-id-6 div.sk-item {position: relative;z-index: 1;}#sk-container-id-6 div.sk-parallel {display: flex;align-items: stretch;justify-content: center;background-color: white;position: relative;}#sk-container-id-6 div.sk-item::before, #sk-container-id-6 div.sk-parallel-item::before {content: \"\";position: absolute;border-left: 1px solid gray;box-sizing: border-box;top: 0;bottom: 0;left: 50%;z-index: -1;}#sk-container-id-6 div.sk-parallel-item {display: flex;flex-direction: column;z-index: 1;position: relative;background-color: white;}#sk-container-id-6 div.sk-parallel-item:first-child::after {align-self: flex-end;width: 50%;}#sk-container-id-6 div.sk-parallel-item:last-child::after {align-self: flex-start;width: 50%;}#sk-container-id-6 div.sk-parallel-item:only-child::after {width: 0;}#sk-container-id-6 div.sk-dashed-wrapped {border: 1px dashed gray;margin: 0 0.4em 0.5em 0.4em;box-sizing: border-box;padding-bottom: 0.4em;background-color: white;}#sk-container-id-6 div.sk-label label {font-family: monospace;font-weight: bold;display: inline-block;line-height: 1.2em;}#sk-container-id-6 div.sk-label-container {text-align: center;}#sk-container-id-6 div.sk-container {/* jupyter's `normalize.less` sets `[hidden] { display: none; }` but bootstrap.min.css set `[hidden] { display: none !important; }` so we also need the `!important` here to be able to override the default hidden behavior on the sphinx rendered scikit-learn.org. See: https://github.com/scikit-learn/scikit-learn/issues/21755 */display: inline-block !important;position: relative;}#sk-container-id-6 div.sk-text-repr-fallback {display: none;}</style><div id=\"sk-container-id-6\" class=\"sk-top-container\"><div class=\"sk-text-repr-fallback\"><pre>MultiOutputClassifier(estimator=RandomForestClassifier(random_state=42))</pre><b>In a Jupyter environment, please rerun this cell to show the HTML representation or trust the notebook. <br />On GitHub, the HTML representation is unable to render, please try loading this page with nbviewer.org.</b></div><div class=\"sk-container\" hidden><div class=\"sk-item sk-dashed-wrapped\"><div class=\"sk-label-container\"><div class=\"sk-label sk-toggleable\"><input class=\"sk-toggleable__control sk-hidden--visually\" id=\"sk-estimator-id-16\" type=\"checkbox\" ><label for=\"sk-estimator-id-16\" class=\"sk-toggleable__label sk-toggleable__label-arrow\">MultiOutputClassifier</label><div class=\"sk-toggleable__content\"><pre>MultiOutputClassifier(estimator=RandomForestClassifier(random_state=42))</pre></div></div></div><div class=\"sk-parallel\"><div class=\"sk-parallel-item\"><div class=\"sk-item\"><div class=\"sk-label-container\"><div class=\"sk-label sk-toggleable\"><input class=\"sk-toggleable__control sk-hidden--visually\" id=\"sk-estimator-id-17\" type=\"checkbox\" ><label for=\"sk-estimator-id-17\" class=\"sk-toggleable__label sk-toggleable__label-arrow\">estimator: RandomForestClassifier</label><div class=\"sk-toggleable__content\"><pre>RandomForestClassifier(random_state=42)</pre></div></div></div><div class=\"sk-serial\"><div class=\"sk-item\"><div class=\"sk-estimator sk-toggleable\"><input class=\"sk-toggleable__control sk-hidden--visually\" id=\"sk-estimator-id-18\" type=\"checkbox\" ><label for=\"sk-estimator-id-18\" class=\"sk-toggleable__label sk-toggleable__label-arrow\">RandomForestClassifier</label><div class=\"sk-toggleable__content\"><pre>RandomForestClassifier(random_state=42)</pre></div></div></div></div></div></div></div></div></div></div>"
            ]
          },
          "metadata": {},
          "execution_count": 55
        }
      ]
    },
    {
      "cell_type": "code",
      "source": [
        "y_pred = model.predict_proba(test_data_x)\n",
        "print(y_pred)"
      ],
      "metadata": {
        "colab": {
          "base_uri": "https://localhost:8080/"
        },
        "id": "rfJIe0SpYtGL",
        "outputId": "98de6e73-89e0-488c-ba02-aab69dd7c1c2"
      },
      "execution_count": 56,
      "outputs": [
        {
          "output_type": "stream",
          "name": "stdout",
          "text": [
            "[array([[0.81, 0.19],\n",
            "       [0.83, 0.17],\n",
            "       [0.59, 0.41],\n",
            "       ...,\n",
            "       [0.82, 0.18],\n",
            "       [0.8 , 0.2 ],\n",
            "       [0.61, 0.39]]), array([[0.71, 0.29],\n",
            "       [0.87, 0.13],\n",
            "       [0.32, 0.68],\n",
            "       ...,\n",
            "       [0.61, 0.39],\n",
            "       [0.59, 0.41],\n",
            "       [0.49, 0.51]])]\n"
          ]
        }
      ]
    },
    {
      "cell_type": "code",
      "source": [
        "respondent_ids = test_data_x['respondent_id']\n",
        "y_pred_prob_array = np.array([prob[:, 1] for prob in y_pred]).T"
      ],
      "metadata": {
        "id": "qUUkfSkDenc3"
      },
      "execution_count": 57,
      "outputs": []
    },
    {
      "cell_type": "code",
      "source": [
        "final_data = pd.DataFrame({\n",
        "    'respondent_id': respondent_ids,\n",
        "    'xyz_vaccine': np.round(y_pred_prob_array[:, 0], 1),\n",
        "    'seasonal_vaccine': np.round(y_pred_prob_array[:, 1], 1)\n",
        "})\n",
        "\n",
        "print(final_data.head())\n",
        "# Save the submission DataFrame to a CSV file\n",
        "final_data.to_csv('final_file.csv', index=False)"
      ],
      "metadata": {
        "colab": {
          "base_uri": "https://localhost:8080/"
        },
        "id": "Oy-sEMVGe1km",
        "outputId": "26c13846-9c50-482b-c880-a9f7de38dd7a"
      },
      "execution_count": 58,
      "outputs": [
        {
          "output_type": "stream",
          "name": "stdout",
          "text": [
            "   respondent_id  xyz_vaccine  seasonal_vaccine\n",
            "0          26707          0.2               0.3\n",
            "1          26708          0.2               0.1\n",
            "2          26709          0.4               0.7\n",
            "3          26710          0.6               0.8\n",
            "4          26711          0.3               0.4\n"
          ]
        }
      ]
    }
  ]
}